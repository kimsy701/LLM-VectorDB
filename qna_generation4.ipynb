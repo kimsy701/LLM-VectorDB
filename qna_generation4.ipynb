{
  "nbformat": 4,
  "nbformat_minor": 0,
  "metadata": {
    "colab": {
      "provenance": []
    },
    "kernelspec": {
      "name": "python3",
      "display_name": "Python 3"
    },
    "language_info": {
      "name": "python"
    }
  },
  "cells": [
    {
      "cell_type": "markdown",
      "source": [
        " - https://huggingface.co/UNIST-Eunchan/FLAN-T5-NLP-Paper-to-Question-Generation?text=Generate+Question%2C+Answer+pair+correspond+to+the+following+research+paper.+%5BAbstract%5D+In+this+work%2C+we+explore+prompt+tuning%2C+a+simple+yet+effective+mechanism+for+learning+soft+prompts+to+condition+frozen+language+models+to+perform+specific+downstream+tasks.+Unlike+the+discrete+text+prompts+used+by+GPT-3%2C+soft+prompts+are+learned+through+backpropagation+and+can+be+tuned+to+incorporate+signal+from+any+number+of+labeled+examples.+Our+end-to-end+learned+approach+outperforms+GPT-3%27s+few-shot+learning+by+a+large+margin.+More+remarkably%2C+through+ablations+on+model+size+using+T5%2C+we+show+that+prompt+tuning+becomes+more+competitive+with+scale%3A+as+models+exceed+billions+of+parameters%2C+our+method+closes+the+gap+and+matches+the+strong+performance+of+model+tuning+%28where+all+model+weights+are+tuned%29.+This+finding+is+especially+relevant+in+that+large+models+are+costly+to+share+and+serve%2C+and+the+ability+to+reuse+one+frozen+model+for+multiple+downstream+tasks+can+ease+this+burden.+Our+method+can+be+seen+as+a+simplification+of+the+recently+proposed+prefix+tuning+of+Li+and+Liang+%282021%29%2C+and+we+provide+a+comparison+to+this+and+other+similar+approaches.+Finally%2C+we+show+that+conditioning+a+frozen+model+with+soft+prompts+confers+benefits+in+robustness+to+domain+transfer%2C+as+compared+to+full+model+tuning.+%5BIntroduction%5D+With+the+wide+success+of+pre-trained+large+language+models%2C+a+range+of+techniques+has+arisen+to+adapt+these+general-purpose+models+to+downstream+tasks.+ELMo+%28Peters+et+al.%2C+2018%29+proposed+freezing+the+pre-trained+model+and+learning+a+task-specific+weighting+of+its+per-layer+representations.+However%2C+since+GPT+%28Radford+et+al.%2C+2018%29+and+BERT+%28Devlin+et+al.%2C+2019%29%2C+the+dominant+adaptation+technique+has+been+model+tuning+%28or+fine-tuning%29%2C+where+all+model+parameters+are+tuned+during+adaptation%2C+as+proposed+by+Howard+and+Ruder+%282018%29.More+recently%2C+Brown+et+al.+%282020%29+showed+that+prompt+design+%28or+priming%29+is+surprisingly+effective+at+modulating+a+frozen+GPT-3+model%E2%80%99s+behavior+through+text+prompts.+Prompts+are+typically+composed+of+a+task+description+and%2For+several+canonical+examples.+This+return+to+freezing+pre-trained+models+is+appealing%2C+especially+as+model+size+continues+to+increase.+Rather+than+requiring+a+separate+copy+of+the+model+for+each+downstream+task%2C+a+single+generalist+model+can+simultaneously+serve+many+different+tasks.+Unfortunately%2C+prompt-based+adaptation+has+several+key+drawbacks.+Task+description+is+error-prone+and+requires+human+involvement%2C+and+the+effectiveness+of+a+prompt+is+limited+by+how+much+conditioning+text+can+fit+into+the+model%E2%80%99s+input.+As+a+result%2C+downstream+task+quality+still+lags+far+behind+that+of+tuned+models.+For+instance%2C+GPT-3+175B+fewshot+performance+on+SuperGLUE+is+17.5+points+below+fine-tuned+T5-XXL+%28Raffel+et+al.%2C+2020%29+%2871.8+vs.+89.3%29+despite+using+16+times+more+parameters.+Several+efforts+to+automate+prompt+design+have+been+recently+proposed.+Shin+et+al.+%282020%29+propose+a+search+algorithm+over+the+discrete+space+of+words%2C+guided+by+the+downstream+application+training+data.+While+this+technique+outperforms+manual+prompt+design%2C+there+is+still+a+gap+relative+to+model+tuning.+Li+and+Liang+%282021%29+propose+prefix+tuning+and+show+strong+results+on+generative+tasks.+This+method+freezes+the+model+parameters+and+backpropagates+the+error+during+tuning+to+prefix+activations+prepended+to+each+layer+in+the+encoder+stack%2C+including+the+input+layer.+Hambardzumyan+et+al.+%282021%29+simplify+this+recipe+by+restricting+the+trainable+parameters+to+the+input+and+output+subnetworks+of+a+masked+language+model%2C+and+show+reasonable+results+on+classifications+tasks.+In+this+paper%2C+we+propose+prompt+tuning+as+a+further+simplification+for+adapting+language+models.+We+freeze+the+entire+pre-trained+model+and+only+allow+an+additional+k+tunable+tokens+per+downstream+task+to+be+prepended+to+the+input+text.+This+soft+prompt+is+trained+end-to-end+and+can+condense+the+signal+from+a+full+labeled+dataset%2C+allowing+our+method+to+outperform+few-shot+prompts+and+close+the+quality+gap+with+model+tuning+%28Figure+1%29.+At+the+same+time%2C+since+a+single+pre-trained+model+is+recycled+for+all+downstream+tasks%2C+we+retain+the+efficient+serving+benefits+of+frozen+models+%28Figure+2%29.+While+we+developed+our+method+concurrently+with+Li+and+Liang+%282021%29+and+Hambardzumyan+et+al.+%282021%29%2C+we+are+the+first+to+show+that+prompt+tuning+alone+%28with+no+intermediate-layer+prefixes+or+task-specific+output+layers%29+is+sufficient+to+be+competitive+with+model+tuning.+Through+detailed+experiments+in+sections+2%E2%80%933%2C+we+demonstrate+that+language+model+capacity+is+a+key+ingredient+for+these+approaches+to+succeed.+As+Figure+1+shows%2C+prompt+tuning+becomes+more+competitive+with+scale.+We+compare+with+similar+approaches+in+Section+4.+Explicitly+separating+task-specific+parameters+from+the+generalist+parameters+needed+for+general+language-understanding+has+a+range+of+additional+benefits.+We+show+in+Section+5+that+by+capturing+the+task+definition+in+the+prompt+while+keeping+the+generalist+parameters+fixed%2C+we+are+able+to+achieve+better+resilience+to+domain+shifts.+In+Section+6%2C+we+show+that+prompt+ensembling%2C+learning+multiple+prompts+for+the+same+task%2C+can+boost+quality+and+is+more+efficient+than+classic+model+ensembling.+Finally%2C+in+Section+7%2C+we+investigate+the+interpretability+of+our+learned+soft+prompts.+In+sum%2C+our+key+contributions+are%3A+1.+Proposing+prompt+tuning+and+showing+its+competitiveness+with+model+tuning+in+the+regime+of+large+language+models.+2.+Ablating+many+design+choices%2C+and+showing+quality+and+robustness+improve+with+scale.+3.+Showing+prompt+tuning+outperforms+model+tuning+on+domain+shift+problems.+4.+Proposing+prompt+ensembling+and+showing+its+effectiveness.+%0A+Question%2C+Answer%3A"
      ],
      "metadata": {
        "id": "ou-xs49yZOrj"
      }
    },
    {
      "cell_type": "code",
      "source": [
        "#load model\n",
        "from transformers import AutoTokenizer, AutoModelForSeq2SeqLM\n",
        "\n",
        "tokenizer = AutoTokenizer.from_pretrained(\"UNIST-Eunchan/FLAN-T5-NLP-Paper-to-Question-Generation\")\n",
        "model = AutoModelForSeq2SeqLM.from_pretrained(\"UNIST-Eunchan/FLAN-T5-NLP-Paper-to-Question-Generation\")"
      ],
      "metadata": {
        "id": "kIpnt0dGVbaB"
      },
      "execution_count": null,
      "outputs": []
    },
    {
      "cell_type": "code",
      "source": [
        "#prompting input\n",
        "txt =  r\"\"\"\n",
        "Generate Question, Answer pair correspond to the following paper.\n",
        "[Abstract] + {text['abstract']} + [Introduction] + {text['introduction']}\n",
        "Question, Answer:\n",
        "\"\"\".replace(\"\\n\", \"\")\n",
        "\n",
        "inputs = tokenizer(txt, max_length = 1024, truncation=True, padding=\"max_length\", return_tensors=\"pt\")\n"
      ],
      "metadata": {
        "id": "Po1Qf7GjVbb6"
      },
      "execution_count": null,
      "outputs": []
    },
    {
      "cell_type": "code",
      "source": [
        "txt=r\"\"\"\n",
        "Generate Question, Answer pair correspond to the following paper.\n",
        "[Abstract]\n",
        "The credit rating system solves the problem of information imbalance between companies and investors\n",
        "It has the effect of promoting the efficiency of the capital market. Therefore, in this study, the history of the credit rating industry is\n",
        "Studies that examine and test the usefulness of credit rating information and factors that affect credit rating\n",
        "By reviewing previous studies that have studied, we would like to review the usefulness and improvement factors of credit rating information.\n",
        "As a result of the study, first, the reason for the development of the global credit rating industry was the development of the railroad industry in the United States\n",
        "It started with the financing of railroad companies (creating corporate bonds). However, when the capital market develops\n",
        "When a company wants to raise funds at a low cost of capital and investors want a safe place to invest\n",
        "It can be said that the credit rating industry aims to resolve the imbalance of information between companies and investors\n",
        "C. Second, the Korean bond market, like the early bond market in history, needs for credit ratings\n",
        "However, as the issuance of unsecured bonds by credit expanded and made multiple valuations mandatory\n",
        "As the demand for the credit rating system increased, it took the form of the three domestic credit rating companies in the 1980s. I\n",
        "Furthermore, in order to introduce international credit rating techniques, business agreements with the three major international credit rating agencies are made\n",
        "Beyond that, it has been incorporated into international credit rating agencies or is expanding its stake. Third, the credit rating industry is\n",
        "It was developed to provide useful information for investors' decision-making. Therefore, capital market participants\n",
        "They specialize in credit rating information published by credit rating agencies based on financial and non-financial information\n",
        "It recognizes that new information from the appropriate credit rating agency is included and is reflected in investment decisions\n",
        "It can be seen through the consideration of previous studies. Finally, fourth, it affects credit rating\n",
        "As a result of reviewing previous studies on English and accounting issues, various factors affect credit ratings\n",
        "You can see that it's crazy.\n",
        "The role of credit rating is to present fair and professional opinions between bond issuers and investors\n",
        "Finance by reducing risk to investors and providing issuers with the opportunity to raise stable capital\n",
        "It is to improve the efficiency of the market. Therefore, the contribution of this study is the birth and development of the credit rating industry\n",
        "In addition, historical considerations of the credit rating industry, such as the expanded credit rating area, and credit rating information in the capital market\n",
        "While testing the usefulness of, consider previous studies that studied factors affecting credit ratings\n",
        "By doing so, it can be said that it is very meaningful to examine the usefulness and improvement factors of credit rating information.\n",
        "[Introduction]\n",
        "In the early days of the Korean bond market, collateral-oriented bonds dominated, and companies secured\n",
        "Capital costs, such as securing and evaluating collateral, have increased. However, firms are lower\n",
        "The wants to be financed by capital costs and participants in capital markets are at low risk\n",
        "I wanted a good investment destination. Lower the capital cost of bond issuers and reduce the risk of investors\n",
        "In order to do this, we need to solve the problem of information imbalance between companies and investors\n",
        "Solve it. One of the systems for this is the credit rating system. 1) Therefore, the credit rating system's\n",
        "The correct settlement is the information between the bond issuing company and the investor structurally inherent in the capital market\n",
        "While reducing investors' risk by mitigating the imbalance, wealth by collateral or guarantee\n",
        "Capital of the enterprise by avoiding rising movable property prices or security valuation costs\n",
        "cost) can be reduced (Jindong-min, 2013).\n",
        "Korea Ratings, one of the nation's top three credit rating agencies, said, \"Credit ratings are professional and objective.\"\n",
        "When a credit rating agency with a good name issues a particular bond or a company's debt, until maturity\n",
        "It is defined as a system that measures the ability to repay principal and interest and classifies it as a credit rating system\n",
        "There is, and the role of credit rating is fair between bond issuers and investors in financial markets\n",
        "By presenting professional opinions, investors can purchase, hold, and dispose of bonds\n",
        "A person who provides information necessary for investment decision-making and who is subject to changes in market conditions to the issuer\n",
        "By reducing the risk of raising gold while providing opportunities for stable capital raising, the financial market\n",
        "It is suggested that it is to promote efficiency. 2) Based on the significance of this credit rating\n",
        "A review of the current expanded credit rating area and development history from the beginning of the credit rating industry\n",
        "Factors affecting credit ratings while testing the usefulness of high and credit rating information\n",
        "Reviewing the usefulness and improvement factors of credit rating information by considering previous studies that have studied\n",
        "It can be said to be a very meaningful study.\n",
        "This study consists of the following five chapters. In \"I. Raising Problems\", the significance of credit rating is\n",
        "The significance of the study and the meaning of the meaning were presented, and in \"II. History of the Global Credit Rating Industry\", Standard & Poor's Financial Services, the three international credit rating agencies\n",
        "LLC), Moody's Investors Service, Inc, and Fitch IBCA's companies\n",
        "The history of the development of the credit rating system was explained through the history.\n",
        "In \"III. History of Korea's Credit Rating Industry\", Korea Credit Rating, Korea, the three domestic credit rating agencies\n",
        "The results of Korea's credit rating system through the company history of Korea Credit Information and Korea Enterprise Evaluation\n",
        "It explained the present and the future. In \"IV. A Study on Credit Rating\"\n",
        "The usefulness of credit rating information and the factors affecting credit rating were reviewed. Lastly\n",
        "In \"V. Conclusion\", the conclusion of the study was presented.\n",
        "\n",
        " Question, Answer:\n",
        " \"\"\".replace(\"\\n\", \"\")\n"
      ],
      "metadata": {
        "id": "ru3CD4XLfI4A"
      },
      "execution_count": null,
      "outputs": []
    },
    {
      "cell_type": "code",
      "source": [
        "inputs = tokenizer(txt, max_length = 1024, truncation=True, padding=\"max_length\", return_tensors=\"pt\")"
      ],
      "metadata": {
        "id": "Va2GPAK_f375"
      },
      "execution_count": null,
      "outputs": []
    },
    {
      "cell_type": "code",
      "source": [
        "#for multiple question generator\n",
        "num_generate_sequence = 4 #8, 16, 2, 1\n",
        "summaries = model.generate(input_ids =inputs[\"input_ids\"], max_new_tokens=100, do_sample = True, top_p = 0.95, num_return_sequences = num_generate_sequence)"
      ],
      "metadata": {
        "id": "nNF9yEKcVbgE"
      },
      "execution_count": null,
      "outputs": []
    },
    {
      "cell_type": "code",
      "source": [
        "summaries"
      ],
      "metadata": {
        "colab": {
          "base_uri": "https://localhost:8080/"
        },
        "id": "2Ar5lMhzaJE9",
        "outputId": "6061ecb2-097b-49e5-ad78-5cc2f02ba838"
      },
      "execution_count": null,
      "outputs": [
        {
          "output_type": "execute_result",
          "data": {
            "text/plain": [
              "tensor([[    0,  2645,    33,     8,   386,   779,  1038,   998,  5773,  4299,\n",
              "            24,   130,  3665,    58,  6306,   134,  8569,   908, 27490,   998,\n",
              "          5773,   688,   114,     3,  6934,   956,     6,   391,  4547,     6,\n",
              "            11,   205, 24442,    33,     3, 10975,    16,    12,  1038,   998,\n",
              "          5773,  4299,     5,     1,     0,     0,     0],\n",
              "        [    0,   363,   405,     8,   585, 12692,    58,  6306,   134,  8569,\n",
              "           908,   196,    17,     3,  5325,     3,  6915,    30,  2580,    84,\n",
              "          2603,   998,  5773,   251,     5,     1,     0,     0,     0,     0,\n",
              "             0,     0,     0,     0,     0,     0,     0,     0,     0,     0,\n",
              "             0,     0,     0,     0,     0,     0,     0],\n",
              "        [    0,   571,   410,     8,  2291,   369,    95,    28,     8,   822,\n",
              "            58,  6306,   134,  8569,   908,  3845,  4468,     3,     9,  4332,\n",
              "          1132,    13,     8,  1170,    11,   606,    13,     8,   296,   998,\n",
              "          5773,   681,    28,     8,   199,    13,     8,  4332,  3187,    13,\n",
              "             8,   779,   998,  5773,   688,     5,     1],\n",
              "        [    0,  4073,   192,  1767,  2116,   130, 14650,    58,  6306,   134,\n",
              "          8569,   908,   634,  1331,  3559,    13,  6529,  5773,     6,  3559,\n",
              "            13,     8,   797, 22407,  2125,     6,    11,  2125,    13,   797,\n",
              "             3, 30578,  2125,     7,     5,     1,     0,     0,     0,     0,\n",
              "             0,     0,     0,     0,     0,     0,     0]])"
            ]
          },
          "metadata": {},
          "execution_count": 26
        }
      ]
    },
    {
      "cell_type": "code",
      "source": [
        "decoded_summaries = [tokenizer.decode(s, skip_special_tokens=False, clean_up_tokenization_spaces=True) for s in summaries]\n",
        "decoded_summaries = [d.replace(\"<n>\", \" \").replace(tokenizer.pad_token, \"\").replace(tokenizer.eos_token, \"\") for d in decoded_summaries]\n"
      ],
      "metadata": {
        "id": "2WSMl83uVbjb"
      },
      "execution_count": null,
      "outputs": []
    },
    {
      "cell_type": "code",
      "source": [
        "decoded_summaries"
      ],
      "metadata": {
        "colab": {
          "base_uri": "https://localhost:8080/"
        },
        "id": "IGn2sqXxZ3P1",
        "outputId": "7460495a-7d84-4e88-9fec-96b7fc8ce22b"
      },
      "execution_count": null,
      "outputs": [
        {
          "output_type": "execute_result",
          "data": {
            "text/plain": [
              "[' Who are the three major international credit rating agencies that were introduced?[SEP]International credit rating companies like BRZ, RBS, and CCRA are incorporated in to international credit rating agencies.',\n",
              " ' What does the research conclude?[SEP]It primarily focuses on factors which affect credit rating information.',\n",
              " ' How did the author come up with the question?[SEP]He conducted a historical review of the growth and development of the world credit rating industry with the help of the historical records of the major credit rating companies.',\n",
              " ' Which two previous studies were examined?[SEP]The International Journal of Credit rating, Journal of the American Accounting Association, and Association of American Statistical Associations.']"
            ]
          },
          "metadata": {},
          "execution_count": 28
        }
      ]
    },
    {
      "cell_type": "code",
      "source": [],
      "metadata": {
        "id": "ZwasBNk9Z3UR"
      },
      "execution_count": null,
      "outputs": []
    },
    {
      "cell_type": "code",
      "source": [],
      "metadata": {
        "id": "udHFu5eGZ3XV"
      },
      "execution_count": null,
      "outputs": []
    },
    {
      "cell_type": "code",
      "source": [],
      "metadata": {
        "id": "NZ0_DWDGZ3aO"
      },
      "execution_count": null,
      "outputs": []
    }
  ]
}